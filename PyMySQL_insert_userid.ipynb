{
 "cells": [
  {
   "cell_type": "code",
   "execution_count": 10,
   "id": "4d56b5e3",
   "metadata": {},
   "outputs": [],
   "source": [
    "import pymysql\n",
    "db = pymysql.connect(host=\"***\",\n",
    "                     user=\"***\",\n",
    "                     password=\"***\",\n",
    "                     db=\"***\",\n",
    "                     port=3306,\n",
    "                     charset='utf8',\n",
    "                     # 以字典形式展示所查询数据\n",
    "                     cursorclass=pymysql.cursors.DictCursor)"
   ]
  },
  {
   "cell_type": "code",
   "execution_count": 7,
   "id": "9e0a6e43",
   "metadata": {},
   "outputs": [],
   "source": [
    "cursor = db.cursor()"
   ]
  },
  {
   "cell_type": "code",
   "execution_count": 56,
   "id": "88665e88",
   "metadata": {},
   "outputs": [],
   "source": [
    "user_id = 'asd'\n",
    "rating = 5\n",
    "id = 6\n",
    "name = 555\n",
    "url = 666\n",
    "\n",
    "# insert user data\n",
    "aa = [\n",
    "    (user_id, rating, id, name, url)\n",
    "]\n",
    "\n",
    "sql = '''\n",
    "        insert into demo.user_history_test1(user_id, rating, id, 餐廳名稱, 餐廳網站) values (%s,%s,%s,%s,%s)\n",
    "        '''"
   ]
  },
  {
   "cell_type": "code",
   "execution_count": 57,
   "id": "629b0f57",
   "metadata": {},
   "outputs": [],
   "source": [
    "# commit insert\n",
    "cursor.executemany(sql, aa)\n",
    "db.commit()"
   ]
  },
  {
   "cell_type": "code",
   "execution_count": 8,
   "id": "ee2aaeda",
   "metadata": {},
   "outputs": [],
   "source": [
    "# check user id data\n",
    "userid = 'asd'\n",
    "\n",
    "cursor.execute('''select count(*) from demo.user_history_test1 where user_id=('%s')'''%(userid))\n",
    "data = cursor.fetchone()\n"
   ]
  },
  {
   "cell_type": "code",
   "execution_count": 9,
   "id": "b055c3b1",
   "metadata": {},
   "outputs": [
    {
     "data": {
      "text/plain": [
       "{'count(*)': 1}"
      ]
     },
     "execution_count": 9,
     "metadata": {},
     "output_type": "execute_result"
    }
   ],
   "source": [
    "data"
   ]
  },
  {
   "cell_type": "code",
   "execution_count": 10,
   "id": "7cbb2de6",
   "metadata": {},
   "outputs": [
    {
     "name": "stdout",
     "output_type": "stream",
     "text": [
      "123\n"
     ]
    }
   ],
   "source": [
    "if data['count(*)'] == 0:\n",
    "    print('no data')\n",
    "else:\n",
    "    print('123')"
   ]
  },
  {
   "cell_type": "code",
   "execution_count": 11,
   "id": "4663ca4f",
   "metadata": {},
   "outputs": [],
   "source": [
    "cursor.close()"
   ]
  },
  {
   "cell_type": "code",
   "execution_count": null,
   "id": "6ace05ab",
   "metadata": {},
   "outputs": [],
   "source": []
  },
  {
   "cell_type": "code",
   "execution_count": null,
   "id": "79bd23e0",
   "metadata": {},
   "outputs": [],
   "source": [
    "import pymysql\n",
    "db = pymysql.connect(host=\"***\",\n",
    "                     user=\"***\",\n",
    "                     password=\"***\",\n",
    "                     db=\"***\",\n",
    "                     port=3306,\n",
    "                     charset='utf8',\n",
    "                     # 以字典形式展示所查询数据\n",
    "                     cursorclass=pymysql.cursors.DictCursor)"
   ]
  },
  {
   "cell_type": "code",
   "execution_count": 11,
   "id": "0bcd52a4",
   "metadata": {},
   "outputs": [],
   "source": [
    "cursor = db.cursor()"
   ]
  },
  {
   "cell_type": "code",
   "execution_count": 3,
   "id": "f2db870f",
   "metadata": {},
   "outputs": [],
   "source": [
    "user_id = 'asd111'\n",
    "rating = 5\n",
    "id = 6\n",
    "name = 555\n",
    "url = 666\n",
    "\n",
    "aa = [\n",
    "    (user_id, rating, id, name, url)\n",
    "]\n",
    "\n",
    "sql = '''insert into demo.user_history_test1(user_id, rating, id, 餐廳名稱, 餐廳網站) values (%s,%s,%s,%s,%s)'''"
   ]
  },
  {
   "cell_type": "code",
   "execution_count": 4,
   "id": "47524e75",
   "metadata": {},
   "outputs": [],
   "source": [
    "cursor.executemany(sql, aa)\n",
    "db.commit()"
   ]
  },
  {
   "cell_type": "code",
   "execution_count": 14,
   "id": "e1772d85",
   "metadata": {},
   "outputs": [],
   "source": [
    "userid = '111'\n",
    "\n",
    "cursor.execute('''select count(*) from demo.user_history_test1 where user_id={}'''.format(userid))\n",
    "data = cursor.fetchone()"
   ]
  },
  {
   "cell_type": "code",
   "execution_count": 15,
   "id": "14f70438",
   "metadata": {},
   "outputs": [
    {
     "data": {
      "text/plain": [
       "{'count(*)': 0}"
      ]
     },
     "execution_count": 15,
     "metadata": {},
     "output_type": "execute_result"
    }
   ],
   "source": [
    "data"
   ]
  },
  {
   "cell_type": "code",
   "execution_count": 16,
   "id": "261ae630",
   "metadata": {},
   "outputs": [],
   "source": [
    "cursor.close()"
   ]
  }
 ],
 "metadata": {
  "kernelspec": {
   "display_name": "Python 3",
   "language": "python",
   "name": "python3"
  },
  "language_info": {
   "codemirror_mode": {
    "name": "ipython",
    "version": 3
   },
   "file_extension": ".py",
   "mimetype": "text/x-python",
   "name": "python",
   "nbconvert_exporter": "python",
   "pygments_lexer": "ipython3",
   "version": "3.8.11"
  }
 },
 "nbformat": 4,
 "nbformat_minor": 5
}
